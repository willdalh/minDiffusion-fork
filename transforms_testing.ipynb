{
 "cells": [
  {
   "cell_type": "code",
   "execution_count": 10,
   "metadata": {},
   "outputs": [],
   "source": [
    "import numpy as np\n",
    "import torch\n",
    "import torch.nn as nn\n",
    "from torch.utils.data import DataLoader\n",
    "\n",
    "from torchvision.datasets import MNIST\n",
    "from torchvision import transforms\n",
    "from torchvision.utils import save_image, make_grid\n",
    "\n",
    "from PIL import Image\n"
   ]
  },
  {
   "cell_type": "code",
   "execution_count": 124,
   "metadata": {},
   "outputs": [
    {
     "name": "stdout",
     "output_type": "stream",
     "text": [
      "torch.Size([16, 3, 28, 28])\n"
     ]
    },
    {
     "ename": "FileNotFoundError",
     "evalue": "[Errno 2] No such file or directory: './contents/test/ddpm_sample_0.png'",
     "output_type": "error",
     "traceback": [
      "\u001b[1;31m---------------------------------------------------------------------------\u001b[0m",
      "\u001b[1;31mFileNotFoundError\u001b[0m                         Traceback (most recent call last)",
      "\u001b[1;32mc:\\Users\\willd\\OneDrive - NTNU\\Documents\\Skole\\U9\\Fordypningsprosjekt\\eksperimentering\\minDiffusion-fork\\transforms_testing.ipynb Cell 2\u001b[0m in \u001b[0;36m<cell line: 36>\u001b[1;34m()\u001b[0m\n\u001b[0;32m     <a href='vscode-notebook-cell:/c%3A/Users/willd/OneDrive%20-%20NTNU/Documents/Skole/U9/Fordypningsprosjekt/eksperimentering/minDiffusion-fork/transforms_testing.ipynb#W1sZmlsZQ%3D%3D?line=29'>30</a>\u001b[0m channels_present \u001b[39m=\u001b[39m [\u001b[39m1\u001b[39m, \u001b[39m1\u001b[39m, \u001b[39m1\u001b[39m]\n\u001b[0;32m     <a href='vscode-notebook-cell:/c%3A/Users/willd/OneDrive%20-%20NTNU/Documents/Skole/U9/Fordypningsprosjekt/eksperimentering/minDiffusion-fork/transforms_testing.ipynb#W1sZmlsZQ%3D%3D?line=30'>31</a>\u001b[0m \u001b[39m# filt = torch.cat([torch.ones_like(im) * ch_pr for ch_pr in channel_present], dim=1)\u001b[39;00m\n\u001b[0;32m     <a href='vscode-notebook-cell:/c%3A/Users/willd/OneDrive%20-%20NTNU/Documents/Skole/U9/Fordypningsprosjekt/eksperimentering/minDiffusion-fork/transforms_testing.ipynb#W1sZmlsZQ%3D%3D?line=31'>32</a>\u001b[0m \u001b[39m# print(filt.shape)\u001b[39;00m\n\u001b[0;32m     <a href='vscode-notebook-cell:/c%3A/Users/willd/OneDrive%20-%20NTNU/Documents/Skole/U9/Fordypningsprosjekt/eksperimentering/minDiffusion-fork/transforms_testing.ipynb#W1sZmlsZQ%3D%3D?line=32'>33</a>\u001b[0m \u001b[39m# im = torch.cat([im * ch_pr for ch_pr in channels_present], dim=1)\u001b[39;00m\n\u001b[0;32m     <a href='vscode-notebook-cell:/c%3A/Users/willd/OneDrive%20-%20NTNU/Documents/Skole/U9/Fordypningsprosjekt/eksperimentering/minDiffusion-fork/transforms_testing.ipynb#W1sZmlsZQ%3D%3D?line=33'>34</a>\u001b[0m \u001b[39m# im = im * filt\u001b[39;00m\n\u001b[1;32m---> <a href='vscode-notebook-cell:/c%3A/Users/willd/OneDrive%20-%20NTNU/Documents/Skole/U9/Fordypningsprosjekt/eksperimentering/minDiffusion-fork/transforms_testing.ipynb#W1sZmlsZQ%3D%3D?line=35'>36</a>\u001b[0m save_image(im[\u001b[39m0\u001b[39;49m], \u001b[39mf\u001b[39;49m\u001b[39m\"\u001b[39;49m\u001b[39m./contents/test/ddpm_sample_\u001b[39;49m\u001b[39m{\u001b[39;49;00mi\u001b[39m}\u001b[39;49;00m\u001b[39m.png\u001b[39;49m\u001b[39m\"\u001b[39;49m)\n\u001b[0;32m     <a href='vscode-notebook-cell:/c%3A/Users/willd/OneDrive%20-%20NTNU/Documents/Skole/U9/Fordypningsprosjekt/eksperimentering/minDiffusion-fork/transforms_testing.ipynb#W1sZmlsZQ%3D%3D?line=36'>37</a>\u001b[0m \u001b[39m# im *= torch.randint(0, 2, (16, 3, 1, 1)).float()\u001b[39;00m\n\u001b[0;32m     <a href='vscode-notebook-cell:/c%3A/Users/willd/OneDrive%20-%20NTNU/Documents/Skole/U9/Fordypningsprosjekt/eksperimentering/minDiffusion-fork/transforms_testing.ipynb#W1sZmlsZQ%3D%3D?line=37'>38</a>\u001b[0m im \u001b[39m=\u001b[39m (im\u001b[39m*\u001b[39m \u001b[39m255\u001b[39m)\u001b[39m.\u001b[39mtype(torch\u001b[39m.\u001b[39muint8)\n",
      "File \u001b[1;32mc:\\Users\\willd\\AppData\\Local\\Programs\\Python\\Python310\\lib\\site-packages\\torch\\autograd\\grad_mode.py:27\u001b[0m, in \u001b[0;36m_DecoratorContextManager.__call__.<locals>.decorate_context\u001b[1;34m(*args, **kwargs)\u001b[0m\n\u001b[0;32m     24\u001b[0m \u001b[39m@functools\u001b[39m\u001b[39m.\u001b[39mwraps(func)\n\u001b[0;32m     25\u001b[0m \u001b[39mdef\u001b[39;00m \u001b[39mdecorate_context\u001b[39m(\u001b[39m*\u001b[39margs, \u001b[39m*\u001b[39m\u001b[39m*\u001b[39mkwargs):\n\u001b[0;32m     26\u001b[0m     \u001b[39mwith\u001b[39;00m \u001b[39mself\u001b[39m\u001b[39m.\u001b[39mclone():\n\u001b[1;32m---> 27\u001b[0m         \u001b[39mreturn\u001b[39;00m func(\u001b[39m*\u001b[39margs, \u001b[39m*\u001b[39m\u001b[39m*\u001b[39mkwargs)\n",
      "File \u001b[1;32mc:\\Users\\willd\\AppData\\Local\\Programs\\Python\\Python310\\lib\\site-packages\\torchvision\\utils.py:156\u001b[0m, in \u001b[0;36msave_image\u001b[1;34m(tensor, fp, format, **kwargs)\u001b[0m\n\u001b[0;32m    154\u001b[0m ndarr \u001b[39m=\u001b[39m grid\u001b[39m.\u001b[39mmul(\u001b[39m255\u001b[39m)\u001b[39m.\u001b[39madd_(\u001b[39m0.5\u001b[39m)\u001b[39m.\u001b[39mclamp_(\u001b[39m0\u001b[39m, \u001b[39m255\u001b[39m)\u001b[39m.\u001b[39mpermute(\u001b[39m1\u001b[39m, \u001b[39m2\u001b[39m, \u001b[39m0\u001b[39m)\u001b[39m.\u001b[39mto(\u001b[39m\"\u001b[39m\u001b[39mcpu\u001b[39m\u001b[39m\"\u001b[39m, torch\u001b[39m.\u001b[39muint8)\u001b[39m.\u001b[39mnumpy()\n\u001b[0;32m    155\u001b[0m im \u001b[39m=\u001b[39m Image\u001b[39m.\u001b[39mfromarray(ndarr)\n\u001b[1;32m--> 156\u001b[0m im\u001b[39m.\u001b[39;49msave(fp, \u001b[39mformat\u001b[39;49m\u001b[39m=\u001b[39;49m\u001b[39mformat\u001b[39;49m)\n",
      "File \u001b[1;32mc:\\Users\\willd\\AppData\\Local\\Programs\\Python\\Python310\\lib\\site-packages\\PIL\\Image.py:2297\u001b[0m, in \u001b[0;36mImage.save\u001b[1;34m(self, fp, format, **params)\u001b[0m\n\u001b[0;32m   2295\u001b[0m         fp \u001b[39m=\u001b[39m builtins\u001b[39m.\u001b[39mopen(filename, \u001b[39m\"\u001b[39m\u001b[39mr+b\u001b[39m\u001b[39m\"\u001b[39m)\n\u001b[0;32m   2296\u001b[0m     \u001b[39melse\u001b[39;00m:\n\u001b[1;32m-> 2297\u001b[0m         fp \u001b[39m=\u001b[39m builtins\u001b[39m.\u001b[39;49mopen(filename, \u001b[39m\"\u001b[39;49m\u001b[39mw+b\u001b[39;49m\u001b[39m\"\u001b[39;49m)\n\u001b[0;32m   2299\u001b[0m \u001b[39mtry\u001b[39;00m:\n\u001b[0;32m   2300\u001b[0m     save_handler(\u001b[39mself\u001b[39m, fp, filename)\n",
      "\u001b[1;31mFileNotFoundError\u001b[0m: [Errno 2] No such file or directory: './contents/test/ddpm_sample_0.png'"
     ]
    }
   ],
   "source": [
    "size = (1, 28, 28)\n",
    "\n",
    "from itertools import product\n",
    "color_combs = list(product([0, 1], repeat=3))[1:][:-1]\n",
    "\n",
    "def perform(x):\n",
    "    channels_present = color_combs[np.random.randint(0, len(color_combs))]\n",
    "    return torch.cat([x * ch_pr for ch_pr in channels_present], dim=0)\n",
    "\n",
    "tf = transforms.Compose(\n",
    "        [transforms.ToTensor(), transforms.Lambda(perform), transforms.Normalize((0.5,), (1.0))]\n",
    "    )\n",
    "dataset = MNIST(\n",
    "    \"./data\",\n",
    "    train=True,\n",
    "    download=True,\n",
    "    transform=tf,\n",
    ")\n",
    "dataloader = DataLoader(dataset, batch_size=16, shuffle=True, num_workers=0)\n",
    "\n",
    "for i, (x, _) in enumerate(dataloader):\n",
    "\n",
    "    break\n",
    "\n",
    "im = x\n",
    "\n",
    "im = im + 0.5\n",
    "print(im.shape)\n",
    "channels_present = [1, 1, 1]\n",
    "# filt = torch.cat([torch.ones_like(im) * ch_pr for ch_pr in channel_present], dim=1)\n",
    "# print(filt.shape)\n",
    "# im = torch.cat([im * ch_pr for ch_pr in channels_present], dim=1)\n",
    "# im = im * filt\n",
    "\n",
    "# im *= torch.randint(0, 2, (16, 3, 1, 1)).float()\n",
    "im = (im* 255).type(torch.uint8)\n",
    "ims = make_grid(im, nrow=4)\n",
    "ims = ims.permute(1, 2, 0).numpy()\n",
    "ims = Image.fromarray(ims)\n",
    "ims.resize((256, 256), resample=Image.NEAREST)"
   ]
  }
 ],
 "metadata": {
  "kernelspec": {
   "display_name": "Python 3.10.3 64-bit",
   "language": "python",
   "name": "python3"
  },
  "language_info": {
   "codemirror_mode": {
    "name": "ipython",
    "version": 3
   },
   "file_extension": ".py",
   "mimetype": "text/x-python",
   "name": "python",
   "nbconvert_exporter": "python",
   "pygments_lexer": "ipython3",
   "version": "3.10.3"
  },
  "orig_nbformat": 4,
  "vscode": {
   "interpreter": {
    "hash": "58b3ebf8dec169d8aec70c36b552225c97668c5e5a4c1d2a670fb746efb28189"
   }
  }
 },
 "nbformat": 4,
 "nbformat_minor": 2
}
