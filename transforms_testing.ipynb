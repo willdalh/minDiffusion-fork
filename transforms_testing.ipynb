{
 "cells": [
  {
   "cell_type": "code",
   "execution_count": 10,
   "metadata": {},
   "outputs": [],
   "source": [
    "import numpy as np\n",
    "import torch\n",
    "import torch.nn as nn\n",
    "from torch.utils.data import DataLoader\n",
    "\n",
    "from torchvision.datasets import MNIST\n",
    "from torchvision import transforms\n",
    "from torchvision.utils import save_image, make_grid\n",
    "\n",
    "from PIL import Image\n"
   ]
  },
  {
   "cell_type": "code",
   "execution_count": 125,
   "metadata": {},
   "outputs": [
    {
     "name": "stdout",
     "output_type": "stream",
     "text": [
      "{0: 5923, 1: 6742, 2: 5958, 3: 6131, 4: 5842, 5: 5421, 6: 5918, 7: 6265, 8: 5851, 9: 5949}\n",
      "torch.Size([16, 3, 28, 28])\n"
     ]
    },
    {
     "name": "stderr",
     "output_type": "stream",
     "text": [
      "C:\\Users\\willd\\AppData\\Local\\Temp\\ipykernel_19372\\1425661474.py:42: DeprecationWarning: NEAREST is deprecated and will be removed in Pillow 10 (2023-07-01). Use Resampling.NEAREST or Dither.NONE instead.\n",
      "  ims.resize((256, 256), resample=Image.NEAREST)\n"
     ]
    },
    {
     "data": {
      "image/png": "[encoded data removed]",
      "text/plain": [
       "<PIL.Image.Image image mode=RGB size=256x256>"
      ]
     },
     "execution_count": 125,
     "metadata": {},
     "output_type": "execute_result"
    }
   ],
   "source": [
    "size = (1, 28, 28)\n",
    "\n",
    "from itertools import product\n",
    "color_combs = list(product([0, 1], repeat=3))[1:][:-1]\n",
    "\n",
    "def perform(x):\n",
    "    channels_present = color_combs[np.random.randint(0, len(color_combs))]\n",
    "    return torch.cat([x * ch_pr for ch_pr in channels_present], dim=0)\n",
    "\n",
    "tf = transforms.Compose(\n",
    "        [transforms.ToTensor(), transforms.Lambda(perform), transforms.Normalize((0.5,), (1.0))]\n",
    "    )\n",
    "dataset = MNIST(\n",
    "    \"./data\",\n",
    "    train=True,\n",
    "    download=True,\n",
    "    transform=tf,\n",
    ")\n",
    "dataloader = DataLoader(dataset, batch_size=16, shuffle=True, num_workers=0)\n",
    "\n",
    "counts = {0: 0, 1: 0, 2: 0, 3: 0, 4: 0, 5: 0, 6: 0, 7: 0, 8: 0, 9: 0}\n",
    "for i, (x, t) in enumerate(dataloader):\n",
    "    for t_ in t:\n",
    "        counts[t_.item()] += 1\n",
    "    # break\n",
    "print(counts)\n",
    "im = x\n",
    "\n",
    "im = im + 0.5\n",
    "print(im.shape)\n",
    "channels_present = [1, 1, 1]\n",
    "# filt = torch.cat([torch.ones_like(im) * ch_pr for ch_pr in channel_present], dim=1)\n",
    "# print(filt.shape)\n",
    "# im = torch.cat([im * ch_pr for ch_pr in channels_present], dim=1)\n",
    "# im = im * filt\n",
    "\n",
    "# im *= torch.randint(0, 2, (16, 3, 1, 1)).float()\n",
    "im = (im* 255).type(torch.uint8)\n",
    "ims = make_grid(im, nrow=4)\n",
    "ims = ims.permute(1, 2, 0).numpy()\n",
    "ims = Image.fromarray(ims)\n",
    "ims.resize((256, 256), resample=Image.NEAREST)"
   ]
  }
 ],
 "metadata": {
  "kernelspec": {
   "display_name": "Python 3.10.3 64-bit",
   "language": "python",
   "name": "python3"
  },
  "language_info": {
   "codemirror_mode": {
    "name": "ipython",
    "version": 3
   },
   "file_extension": ".py",
   "mimetype": "text/x-python",
   "name": "python",
   "nbconvert_exporter": "python",
   "pygments_lexer": "ipython3",
   "version": "3.10.3"
  },
  "orig_nbformat": 4,
  "vscode": {
   "interpreter": {
    "hash": "58b3ebf8dec169d8aec70c36b552225c97668c5e5a4c1d2a670fb746efb28189"
   }
  }
 },
 "nbformat": 4,
 "nbformat_minor": 2
}
