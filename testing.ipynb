{
 "cells": [
  {
   "cell_type": "code",
   "execution_count": 1,
   "metadata": {},
   "outputs": [],
   "source": [
    "from superminddpm import DDPM, DummyEpsModel\n",
    "import torch\n",
    "import matplotlib.pyplot as plt"
   ]
  },
  {
   "cell_type": "code",
   "execution_count": 2,
   "metadata": {},
   "outputs": [
    {
     "name": "stdout",
     "output_type": "stream",
     "text": [
      "Model created\n"
     ]
    }
   ],
   "source": [
    "device = torch.device(\"cuda\" if torch.cuda.is_available() else \"cpu\")\n",
    "model = DDPM(eps_model=DummyEpsModel(1), betas=(1e-4, 0.02), n_T=1000)\n",
    "model.load_state_dict(torch.load(\"./contents/ddpm_mnist.pth\", map_location=device))\n",
    "model.to(device)\n",
    "model.eval();"
   ]
  },
  {
   "cell_type": "code",
   "execution_count": 3,
   "metadata": {},
   "outputs": [],
   "source": [
    "dataset = torch.load(\"./datasets/1000_samples.pth\")\n",
    "dataset = dataset.to(device)\n",
    "\n",
    "n = dataset.shape[0]\n",
    "samples = dataset[:, 0][:, None, ...]\n",
    "original_noise = dataset[:, 1][:, None, ...]\n",
    "samples = samples + 0.5\n",
    "labels = torch.load(f\"./datasets/{n}_labels.pth\")"
   ]
  },
  {
   "cell_type": "code",
   "execution_count": 4,
   "metadata": {},
   "outputs": [
    {
     "data": {
      "image/png": "[encoded data removed]",
      "text/plain": [
       "<Figure size 432x288 with 1 Axes>"
      ]
     },
     "metadata": {
      "needs_background": "light"
     },
     "output_type": "display_data"
    }
   ],
   "source": [
    "index = torch.randint(0, n, (1,))[0]\n",
    "sample = samples[index]\n",
    "starting_noise = original_noise[index]\n",
    "plt.imshow(sample[0].cpu(), cmap=\"gray\")\n",
    "plt.show()"
   ]
  },
  {
   "cell_type": "code",
   "execution_count": 5,
   "metadata": {},
   "outputs": [
    {
     "name": "stdout",
     "output_type": "stream",
     "text": [
      "torch.Size([1, 1, 28, 28])\n",
      "torch.Size([1, 1, 28, 28])\n"
     ]
    }
   ],
   "source": [
    "n_samples = 1\n",
    "torch.manual_seed(torch.LongTensor([306]))\n",
    "with torch.no_grad():\n",
    "    result = model.sample(n_samples, (1, 28, 28), starting_noise=starting_noise[None, ...].repeat((n_samples, 1, 1, 1)), device=device, return_at_step=-1)\n",
    "result_normalized = (result - result.min()) / (result.max() - result.min())\n",
    "\n"
   ]
  },
  {
   "cell_type": "code",
   "execution_count": 37,
   "metadata": {},
   "outputs": [
    {
     "data": {
      "image/png": "[encoded data removed]",
      "text/plain": [
       "<Figure size 216x432 with 1 Axes>"
      ]
     },
     "metadata": {
      "needs_background": "light"
     },
     "output_type": "display_data"
    }
   ],
   "source": [
    "# Plot the four samples\n",
    "fig, axs = plt.subplots(1, n_samples, figsize=(n_samples * 3, 6))\n",
    "for i in range(n_samples):\n",
    "    curr_axs = axs if n_samples == 1 else axs[i]\n",
    "    curr_axs.imshow(result_normalized[i, 0].cpu(), cmap=\"gray\")\n",
    "plt.show()\n"
   ]
  }
 ],
 "metadata": {
  "kernelspec": {
   "display_name": "Python 3",
   "language": "python",
   "name": "python3"
  },
  "language_info": {
   "codemirror_mode": {
    "name": "ipython",
    "version": 3
   },
   "file_extension": ".py",
   "mimetype": "text/x-python",
   "name": "python",
   "nbconvert_exporter": "python",
   "pygments_lexer": "ipython3",
   "version": "3.8.3"
  },
  "vscode": {
   "interpreter": {
    "hash": "58b3ebf8dec169d8aec70c36b552225c97668c5e5a4c1d2a670fb746efb28189"
   }
  }
 },
 "nbformat": 4,
 "nbformat_minor": 2
}
