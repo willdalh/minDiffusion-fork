{
 "cells": [
  {
   "cell_type": "code",
   "execution_count": 2,
   "metadata": {},
   "outputs": [
    {
     "name": "stdout",
     "output_type": "stream",
     "text": [
      "Tue Sep  6 09:00:54 2022       \r\n",
      "+-----------------------------------------------------------------------------+\r\n",
      "| NVIDIA-SMI 510.47.03    Driver Version: 510.47.03    CUDA Version: 11.6     |\r\n",
      "|-------------------------------+----------------------+----------------------+\r\n",
      "| GPU  Name        Persistence-M| Bus-Id        Disp.A | Volatile Uncorr. ECC |\r\n",
      "| Fan  Temp  Perf  Pwr:Usage/Cap|         Memory-Usage | GPU-Util  Compute M. |\r\n",
      "|                               |                      |               MIG M. |\r\n",
      "|===============================+======================+======================|\r\n",
      "|   0  Tesla P100-PCIE...  On   | 00000000:03:00.0 Off |                    0 |\r\n",
      "| N/A   24C    P0    26W / 250W |      2MiB / 16384MiB |      0%      Default |\r\n",
      "|                               |                      |                  N/A |\r\n",
      "+-------------------------------+----------------------+----------------------+\r\n",
      "|   1  Tesla P100-PCIE...  On   | 00000000:82:00.0 Off |                    0 |\r\n",
      "| N/A   30C    P0    26W / 250W |      2MiB / 16384MiB |      0%      Default |\r\n",
      "|                               |                      |                  N/A |\r\n",
      "+-------------------------------+----------------------+----------------------+\r\n",
      "                                                                               \r\n",
      "+-----------------------------------------------------------------------------+\r\n",
      "| Processes:                                                                  |\r\n",
      "|  GPU   GI   CI        PID   Type   Process name                  GPU Memory |\r\n",
      "|        ID   ID                                                   Usage      |\r\n",
      "|=============================================================================|\r\n",
      "|  No running processes found                                                 |\r\n",
      "+-----------------------------------------------------------------------------+\r\n"
     ]
    }
   ],
   "source": [
    "!nvidia-smi"
   ]
  },
  {
   "cell_type": "code",
   "execution_count": 3,
   "metadata": {},
   "outputs": [],
   "source": [
    "from superminddpm import DDPM, DummyEpsModel\n",
    "import torch\n",
    "import matplotlib.pyplot as plt"
   ]
  },
  {
   "cell_type": "code",
   "execution_count": 4,
   "metadata": {},
   "outputs": [
    {
     "name": "stdout",
     "output_type": "stream",
     "text": [
      "Model created\n"
     ]
    }
   ],
   "source": [
    "device = torch.device(\"cuda\" if torch.cuda.is_available() else \"cpu\")\n",
    "model = DDPM(eps_model=DummyEpsModel(1), betas=(1e-4, 0.02), n_T=1000)\n",
    "model.load_state_dict(torch.load(\"./contents/ddpm_mnist.pth\", map_location=device))\n",
    "model.to(device)\n",
    "model.eval();"
   ]
  },
  {
   "cell_type": "code",
   "execution_count": 3,
   "metadata": {},
   "outputs": [
    {
     "data": {
      "text/plain": [
       "False"
      ]
     },
     "execution_count": 3,
     "metadata": {},
     "output_type": "execute_result"
    }
   ],
   "source": [
    "isinstance(list(model.modules())[6], torch.nn.Sequential)"
   ]
  },
  {
   "cell_type": "code",
   "execution_count": 5,
   "metadata": {},
   "outputs": [],
   "source": [
    "def plot_samples(samples):\n",
    "    n = samples.shape[0]\n",
    "    fig, axs = plt.subplots(1, n, figsize=(n * 3, 6))\n",
    "    for i in range(n):\n",
    "        curr_axs = axs if n == 1 else axs[i]\n",
    "        curr_axs.imshow(samples[i, 0].cpu(), cmap=\"gray\")\n",
    "    plt.show()"
   ]
  },
  {
   "cell_type": "code",
   "execution_count": 6,
   "metadata": {},
   "outputs": [],
   "source": [
    "dataset = torch.load(\"./datasets/1000_samples.pth\")\n",
    "dataset = dataset.to(device)\n",
    "\n",
    "n = dataset.shape[0]\n",
    "samples = dataset[:, 0][:, None, ...]\n",
    "original_noise = dataset[:, 1][:, None, ...]\n",
    "samples = samples + 0.5\n",
    "labels = torch.load(f\"./datasets/{n}_labels.pth\")"
   ]
  },
  {
   "cell_type": "code",
   "execution_count": 7,
   "metadata": {},
   "outputs": [
    {
     "data": {
      "image/png": "[encoded data removed]",
      "text/plain": [
       "<Figure size 432x288 with 1 Axes>"
      ]
     },
     "metadata": {
      "needs_background": "light"
     },
     "output_type": "display_data"
    }
   ],
   "source": [
    "index = torch.randint(0, n, (1,))[0]\n",
    "sample = samples[index]\n",
    "starting_noise = original_noise[index]\n",
    "plt.imshow(sample[0].cpu(), cmap=\"gray\")\n",
    "plt.show()"
   ]
  },
  {
   "cell_type": "code",
   "execution_count": 5,
   "metadata": {},
   "outputs": [
    {
     "name": "stdout",
     "output_type": "stream",
     "text": [
      "torch.Size([1, 1, 28, 28])\n",
      "torch.Size([1, 1, 28, 28])\n"
     ]
    }
   ],
   "source": [
    "n_samples = 1\n",
    "torch.manual_seed(torch.LongTensor([306]))\n",
    "with torch.no_grad():\n",
    "    result = model.sample(n_samples, (1, 28, 28), starting_noise=starting_noise[None, ...].repeat((n_samples, 1, 1, 1)), device=device, return_at_step=-1)\n",
    "result_normalized = (result - result.min()) / (result.max() - result.min())\n",
    "\n"
   ]
  },
  {
   "cell_type": "code",
   "execution_count": 37,
   "metadata": {
    "scrolled": true
   },
   "outputs": [
    {
     "data": {
      "image/png": "[encoded data removed]",
      "text/plain": [
       "<Figure size 216x432 with 1 Axes>"
      ]
     },
     "metadata": {
      "needs_background": "light"
     },
     "output_type": "display_data"
    }
   ],
   "source": [
    "# Plot the four samples\n",
    "fig, axs = plt.subplots(1, n_samples, figsize=(n_samples * 3, 6))\n",
    "for i in range(n_samples):\n",
    "    curr_axs = axs if n_samples == 1 else axs[i]\n",
    "    curr_axs.imshow(result_normalized[i, 0].cpu(), cmap=\"gray\")\n",
    "plt.show()\n"
   ]
  },
  {
   "cell_type": "code",
   "execution_count": 8,
   "metadata": {},
   "outputs": [],
   "source": [
    "def sample_extended(m: DDPM, n_sample, size, device, use_z=True) -> torch.Tensor:\n",
    "    x_i = torch.randn(n_sample, *size).to(device)\n",
    "    for i in range(m.n_T, 0, -1):\n",
    "        z = torch.randn(n_sample, *size).to(device) if i > 1 else 0\n",
    "        eps = m.eps_model(x_i, i / m.n_T)\n",
    "        x_i = (m.oneover_sqrta[i] * (x_i - eps * m.mab_over_sqrtmab[i]))\n",
    "        if use_z:\n",
    "            x_i += m.sqrt_beta_t[i] * z\n",
    "    return x_i    \n",
    "    "
   ]
  },
  {
   "cell_type": "code",
   "execution_count": 9,
   "metadata": {},
   "outputs": [
    {
     "data": {
      "image/png": "[encoded data removed]",
      "text/plain": [
       "<Figure size 1296x432 with 6 Axes>"
      ]
     },
     "metadata": {
      "needs_background": "light"
     },
     "output_type": "display_data"
    }
   ],
   "source": [
    "# With z\n",
    "n = 6\n",
    "with torch.no_grad():\n",
    "    result = sample_extended(model, n, (1, 28, 28), device=device, use_z=True)\n",
    "result_normalized = (result - result.min()) / (result.max() - result.min())\n",
    "plot_samples(result_normalized)"
   ]
  },
  {
   "cell_type": "code",
   "execution_count": 11,
   "metadata": {},
   "outputs": [
    {
     "data": {
      "image/png": "[encoded data removed]",
      "text/plain": [
       "<Figure size 1296x432 with 6 Axes>"
      ]
     },
     "metadata": {
      "needs_background": "light"
     },
     "output_type": "display_data"
    }
   ],
   "source": [
    "# No z\n",
    "n = 6\n",
    "with torch.no_grad():\n",
    "    result = sample_extended(model, n, (1, 28, 28), device=device, use_z=False)\n",
    "result_normalized = (result - result.min()) / (result.max() - result.min())\n",
    "plot_samples(result_normalized)"
   ]
  }
 ],
 "metadata": {
  "kernelspec": {
   "display_name": "Python 3",
   "language": "python",
   "name": "python3"
  },
  "language_info": {
   "codemirror_mode": {
    "name": "ipython",
    "version": 3
   },
   "file_extension": ".py",
   "mimetype": "text/x-python",
   "name": "python",
   "nbconvert_exporter": "python",
   "pygments_lexer": "ipython3",
   "version": "3.8.3"
  },
  "vscode": {
   "interpreter": {
    "hash": "58b3ebf8dec169d8aec70c36b552225c97668c5e5a4c1d2a670fb746efb28189"
   }
  }
 },
 "nbformat": 4,
 "nbformat_minor": 2
}
